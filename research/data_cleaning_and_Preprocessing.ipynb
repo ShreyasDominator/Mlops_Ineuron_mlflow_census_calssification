{
 "cells": [
  {
   "cell_type": "code",
   "execution_count": 10,
   "id": "f6893997",
   "metadata": {},
   "outputs": [],
   "source": [
    "import os \n",
    "import pandas as pd"
   ]
  },
  {
   "cell_type": "code",
   "execution_count": 2,
   "id": "6eb63532",
   "metadata": {},
   "outputs": [
    {
     "data": {
      "text/plain": [
       "'e:\\\\ML_Projects_iNeuron\\\\iNeuron_Project_Census_data_Classification_With_MLflow\\\\research'"
      ]
     },
     "execution_count": 2,
     "metadata": {},
     "output_type": "execute_result"
    }
   ],
   "source": [
    "%pwd"
   ]
  },
  {
   "cell_type": "code",
   "execution_count": 3,
   "id": "a335b5c4",
   "metadata": {},
   "outputs": [],
   "source": [
    "os.chdir('../')"
   ]
  },
  {
   "cell_type": "code",
   "execution_count": 4,
   "metadata": {},
   "outputs": [
    {
     "data": {
      "text/plain": [
       "'e:\\\\ML_Projects_iNeuron\\\\iNeuron_Project_Census_data_Classification_With_MLflow'"
      ]
     },
     "execution_count": 4,
     "metadata": {},
     "output_type": "execute_result"
    }
   ],
   "source": [
    "%pwd"
   ]
  },
  {
   "cell_type": "code",
   "execution_count": 84,
   "metadata": {},
   "outputs": [],
   "source": [
    "from dataclasses import dataclass\n",
    "from pathlib import Path\n",
    "\n",
    "\n",
    "@dataclass(frozen=True)\n",
    "class Data_preprocessing_ValidationConfig:\n",
    "    root_dir: Path\n",
    "    STATUS_FILE: str\n",
    "    unzip_data_dir: Path\n",
    "    all_schema: dict\n",
    "    Preprocess_data: Path\n",
    "    "
   ]
  },
  {
   "cell_type": "code",
   "execution_count": 85,
   "id": "b26f69e0",
   "metadata": {},
   "outputs": [],
   "source": [
    "from Mlflow_Ineuron_Project.constants import *\n",
    "from Mlflow_Ineuron_Project.utils.common import read_yaml, create_directories"
   ]
  },
  {
   "cell_type": "code",
   "execution_count": 86,
   "metadata": {},
   "outputs": [],
   "source": [
    "class ConfigurationManager:\n",
    "    def __init__(\n",
    "        self,\n",
    "        config_filepath = CONFIG_FILE_PATH,\n",
    "        params_filepath = PARAMS_FILE_PATH,\n",
    "        schema_filepath = SCHEMA_FILE_PATH):\n",
    "\n",
    "        self.config = read_yaml(config_filepath)\n",
    "        self.params = read_yaml(params_filepath)\n",
    "        self.schema = read_yaml(schema_filepath)\n",
    "\n",
    "        create_directories([self.config.artifacts_root])\n",
    "\n",
    "\n",
    "    \n",
    "    def get_data_validation_config(self) -> Data_preprocessing_ValidationConfig:\n",
    "        config = self.config.data_validation\n",
    "        schema = self.schema.COLUMNS\n",
    "\n",
    "        create_directories([config.root_dir])\n",
    "        create_directories([config.preprocess_data_path])\n",
    "\n",
    "        data_validation_config = Data_preprocessing_ValidationConfig(\n",
    "            root_dir=config.root_dir,\n",
    "            STATUS_FILE=config.STATUS_FILE,\n",
    "            unzip_data_dir = config.unzip_data_dir,\n",
    "            all_schema=schema,\n",
    "            Preprocess_data=config.preprocess_data_path\n",
    "            \n",
    "        )\n",
    "\n",
    "        return data_validation_config"
   ]
  },
  {
   "cell_type": "code",
   "execution_count": 87,
   "metadata": {},
   "outputs": [],
   "source": [
    "import os\n",
    "from Mlflow_Ineuron_Project import logger\n",
    "from  sklearn.preprocessing import LabelEncoder "
   ]
  },
  {
   "cell_type": "code",
   "execution_count": 88,
   "metadata": {},
   "outputs": [],
   "source": [
    "class Data_preprocessing_Validation:\n",
    "    def __init__(self, config: Data_preprocessing_ValidationConfig):\n",
    "        self.config = config\n",
    "\n",
    "\n",
    "    def validate_all_columns(self)-> bool:\n",
    "        try:\n",
    "            validation_status = None\n",
    "\n",
    "            data = pd.read_csv(self.config.unzip_data_dir)\n",
    "       # remove the extra space around the columns \n",
    "            data.columns=data.columns.str.strip()\n",
    "\n",
    "            numerical_col=['age','fnlwgt', 'capital-gain', 'capital-loss', 'hours-per-week']\n",
    "\n",
    "            categorical_col=['workclass', 'education', 'marital-status', 'occupation', 'sex', 'country','salary']\n",
    "            # for col in categorical_col:\n",
    "            #     if col in data.columns:\n",
    "            #         data[col] = data[col].str.lower()\n",
    "            #     if col in data.columns:\n",
    "            #         data[col] = data[col].str.lower() \n",
    "            # print(data.head())\n",
    "            data.drop(columns=['relationship', 'race','education-num'], inplace=True)\n",
    "\n",
    "            # label encoding \n",
    "            for i in categorical_col:\n",
    "                le=LabelEncoder()\n",
    "                data[i]=le.fit_transform(data[i])\n",
    "            \n",
    "            \n",
    "            \n",
    "            # print(data.info())\n",
    "\n",
    "            all_cols = list(data.columns)\n",
    "\n",
    "            all_schema = self.config.all_schema.keys()\n",
    "\n",
    "            print(all_schema)\n",
    "            for col in all_cols:\n",
    "                print(col)\n",
    "                if col not in all_schema:\n",
    "                    validation_status = False\n",
    "                    with open(self.config.STATUS_FILE, 'w') as f:\n",
    "                        f.write(f\"Validation status: {validation_status}\")\n",
    "                else:\n",
    "                    validation_status = True\n",
    "                    with open(self.config.STATUS_FILE, 'w') as f:\n",
    "                        f.write(f\"Validation status: {validation_status}\")\n",
    "\n",
    "\n",
    "            data.to_csv(os.path.join(self.config.Preprocess_data,\"preprocessed_data.csv\"),index=False)\n",
    "\n",
    "            return validation_status\n",
    "        \n",
    "        except Exception as e:\n",
    "            raise e\n",
    "\n"
   ]
  },
  {
   "cell_type": "code",
   "execution_count": 89,
   "id": "85cbafec",
   "metadata": {},
   "outputs": [
    {
     "name": "stdout",
     "output_type": "stream",
     "text": [
      "[2025-04-17 12:35:28,569: INFO: common: yaml file: config\\config.yaml loaded successfully]\n",
      "[2025-04-17 12:35:28,572: INFO: common: yaml file: params.yaml loaded successfully]\n",
      "[2025-04-17 12:35:28,575: INFO: common: yaml file: schema.yaml loaded successfully]\n",
      "[2025-04-17 12:35:28,575: INFO: common: created directory at: artifacts]\n",
      "[2025-04-17 12:35:28,584: INFO: common: created directory at: artifacts/data_validation]\n",
      "[2025-04-17 12:35:28,586: INFO: common: created directory at: artifacts/data_preprocessed]\n",
      "dict_keys(['age', 'workclass', 'fnlwgt', 'education', 'marital-status', 'occupation', 'sex', 'capital-gain', 'capital-loss', 'hours-per-week', 'country', 'salary'])\n",
      "age\n",
      "workclass\n",
      "fnlwgt\n",
      "education\n",
      "marital-status\n",
      "occupation\n",
      "sex\n",
      "capital-gain\n",
      "capital-loss\n",
      "hours-per-week\n",
      "country\n",
      "salary\n"
     ]
    }
   ],
   "source": [
    "try:\n",
    "    config = ConfigurationManager()\n",
    "    data_validation_config = config.get_data_validation_config()\n",
    "    data_validation =Data_preprocessing_Validation(config=data_validation_config)\n",
    "    data_validation.validate_all_columns()\n",
    "except Exception as e:\n",
    "    raise e"
   ]
  }
 ],
 "metadata": {
  "kernelspec": {
   "display_name": "Mlops_ineuron",
   "language": "python",
   "name": "python3"
  },
  "language_info": {
   "codemirror_mode": {
    "name": "ipython",
    "version": 3
   },
   "file_extension": ".py",
   "mimetype": "text/x-python",
   "name": "python",
   "nbconvert_exporter": "python",
   "pygments_lexer": "ipython3",
   "version": "3.11.1"
  }
 },
 "nbformat": 4,
 "nbformat_minor": 5
}
